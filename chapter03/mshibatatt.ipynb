{
 "cells": [
  {
   "cell_type": "markdown",
   "metadata": {},
   "source": [
    "# Chapter3 基礎技術"
   ]
  },
  {
   "cell_type": "markdown",
   "metadata": {},
   "source": [
    "## 3.1 \n",
    "> 3.1節にあるように, 実際に形態素解析を行ってみよう. 3.1節と同じ結果が出ただろうか. MeCabを使った形態素解析においては, どの辞書を使うかによって解析結果が異なってくる. MeCabの辞書としてどのようなものがあるか調べてみよう. また辞書を変えたとき, 解析結果がどのように変わるか調べてみよう."
   ]
  },
  {
   "cell_type": "code",
   "execution_count": null,
   "metadata": {},
   "outputs": [],
   "source": [
    "!apt update \n",
    "!apt install mecab libmecab-dev mecab-ipadic-utf8 mecab-jumandic-utf8"
   ]
  },
  {
   "cell_type": "code",
   "execution_count": 1,
   "metadata": {},
   "outputs": [],
   "source": [
    "import subprocess"
   ]
  },
  {
   "cell_type": "code",
   "execution_count": null,
   "metadata": {},
   "outputs": [],
   "source": [
    "subprocess.run(\"mecab\", input=\"日本語の文の形態素解析を行った.\", encoding=\"utf-8\")"
   ]
  },
  {
   "cell_type": "code",
   "execution_count": 2,
   "metadata": {},
   "outputs": [
    {
     "name": "stdout",
     "output_type": "stream",
     "text": [
      "filename:\t/var/lib/mecab/dic/debian/sys.dic\n",
      "version:\t102\n",
      "charset:\tUTF-8\n",
      "type:\t0\n",
      "size:\t392127\n",
      "left size:\t1316\n",
      "right size:\t1316\n",
      "\n"
     ]
    },
    {
     "data": {
      "text/plain": [
       "CompletedProcess(args=['mecab', '-D'], returncode=1)"
      ]
     },
     "execution_count": 2,
     "metadata": {},
     "output_type": "execute_result"
    }
   ],
   "source": [
    "subprocess.run([\"mecab\", \"-D\"])"
   ]
  },
  {
   "cell_type": "code",
   "execution_count": 11,
   "metadata": {},
   "outputs": [
    {
     "name": "stdout",
     "output_type": "stream",
     "text": [
      "debian\n",
      "ipadic\n",
      "ipadic-utf8\n",
      "juman-utf8\n"
     ]
    },
    {
     "data": {
      "text/plain": [
       "CompletedProcess(args=['ls', '/var/lib/mecab/dic'], returncode=0)"
      ]
     },
     "execution_count": 11,
     "metadata": {},
     "output_type": "execute_result"
    }
   ],
   "source": [
    "subprocess.run([\"ls\", \"/var/lib/mecab/dic\"])"
   ]
  },
  {
   "cell_type": "code",
   "execution_count": 3,
   "metadata": {},
   "outputs": [
    {
     "name": "stdout",
     "output_type": "stream",
     "text": [
      "日本語\t名詞,一般,*,*,*,*,日本語,ニホンゴ,ニホンゴ\n",
      "の\t助詞,連体化,*,*,*,*,の,ノ,ノ\n",
      "文\t名詞,一般,*,*,*,*,文,ブン,ブン\n",
      "の\t助詞,連体化,*,*,*,*,の,ノ,ノ\n",
      "形態素\t名詞,一般,*,*,*,*,形態素,ケイタイソ,ケイタイソ\n",
      "解析\t名詞,サ変接続,*,*,*,*,解析,カイセキ,カイセキ\n",
      "を\t助詞,格助詞,一般,*,*,*,を,ヲ,ヲ\n",
      "行っ\t動詞,自立,*,*,五段・ワ行促音便,連用タ接続,行う,オコナッ,オコナッ\n",
      "た\t助動詞,*,*,*,特殊・タ,基本形,た,タ,タ\n",
      ".\t名詞,サ変接続,*,*,*,*,*\n",
      "EOS\n"
     ]
    },
    {
     "data": {
      "text/plain": [
       "CompletedProcess(args=['mecab', '-d', '/var/lib/mecab/dic/ipadic-utf8'], returncode=0)"
      ]
     },
     "execution_count": 3,
     "metadata": {},
     "output_type": "execute_result"
    }
   ],
   "source": [
    "subprocess.run([\"mecab\", \"-d\", \"/var/lib/mecab/dic/ipadic-utf8\"], input=\"日本語の文の形態素解析を行った.\", encoding=\"utf-8\")"
   ]
  },
  {
   "cell_type": "code",
   "execution_count": 6,
   "metadata": {},
   "outputs": [
    {
     "name": "stdout",
     "output_type": "stream",
     "text": [
      "日本\t名詞,地名,*,*,日本,にほん,代表表記:日本/にほん 地名:国\n",
      "語\t名詞,普通名詞,*,*,語,ご,代表表記:語/ご 漢字読み:音 カテゴリ:抽象物\n",
      "の\t助詞,接続助詞,*,*,の,の,*\n",
      "文\t名詞,普通名詞,*,*,文,ぶん,代表表記:文/ぶん 漢字読み:音 カテゴリ:抽象物\n",
      "の\t助詞,接続助詞,*,*,の,の,*\n",
      "形態\t名詞,普通名詞,*,*,形態,けいたい,代表表記:形態/けいたい カテゴリ:形・模様\n",
      "素\t名詞,普通名詞,*,*,素,そ,代表表記:素/そ 漢字読み:音 カテゴリ:抽象物\n",
      "解析\t名詞,サ変名詞,*,*,解析,かいせき,代表表記:解析/かいせき カテゴリ:抽象物 ドメイン:教育・学習;科学・技術\n",
      "を\t助詞,格助詞,*,*,を,を,*\n",
      "行った\t動詞,*,子音動詞ワ行,タ形,行う,おこなった,代表表記:行う/おこなう\n",
      ".\t特殊,記号,*,*,*,*,*\n",
      "EOS\n"
     ]
    },
    {
     "data": {
      "text/plain": [
       "CompletedProcess(args=['mecab', '-d', '/var/lib/mecab/dic/juman-utf8'], returncode=0)"
      ]
     },
     "execution_count": 6,
     "metadata": {},
     "output_type": "execute_result"
    }
   ],
   "source": [
    "subprocess.run([\"mecab\", \"-d\", \"/var/lib/mecab/dic/juman-utf8\"], input=\"日本語の文の形態素解析を行った.\", encoding=\"utf-8\")"
   ]
  },
  {
   "cell_type": "markdown",
   "metadata": {},
   "source": [
    "## 3.2\n",
    "> 新聞記事など, 身近なテキストをダウンロードし, それを形態素解析してみよう. その上で, 実現する形態素ごとにその形態素が出現する頻度を数えるプログラムを書いてみよう. その結果は元のテキストの特徴を表しているだろうか."
   ]
  },
  {
   "cell_type": "code",
   "execution_count": 19,
   "metadata": {},
   "outputs": [],
   "source": [
    "import spacy\n",
    "import requests\n",
    "import re\n",
    "from collections import defaultdict"
   ]
  },
  {
   "cell_type": "code",
   "execution_count": 74,
   "metadata": {},
   "outputs": [],
   "source": [
    "neko = requests.get('https://nlp100.github.io/data/neko.txt').text\n",
    "nlp = spacy.load('ja_ginza')\n",
    "nekos = re.split(r\"\\r\\n\\r\\n\", neko)"
   ]
  },
  {
   "cell_type": "code",
   "execution_count": 75,
   "metadata": {},
   "outputs": [
    {
     "name": "stdout",
     "output_type": "stream",
     "text": [
      "710\n",
      "1 一\n",
      "3 \n",
      "二\n",
      "3 \n",
      "三\n",
      "3 \n",
      "四\n",
      "3 \n",
      "五\n",
      "3 \n",
      "六\n",
      "3 \n",
      "七\n",
      "3 \n",
      "八\n",
      "3 \n",
      "九\n",
      "3 \n",
      "十\n",
      "4 \n",
      "十一\n",
      "0 \n"
     ]
    }
   ],
   "source": [
    "print(len(nekos))\n",
    "for i in nekos:\n",
    "    if len(i) < 10:\n",
    "        print(len(i), i[:4])"
   ]
  },
  {
   "cell_type": "code",
   "execution_count": 76,
   "metadata": {},
   "outputs": [],
   "source": [
    "docs = []\n",
    "for i in nekos:\n",
    "    if len(i) < 10:\n",
    "        continue\n",
    "    docs.append(nlp(i))"
   ]
  },
  {
   "cell_type": "code",
   "execution_count": 78,
   "metadata": {},
   "outputs": [
    {
     "data": {
      "text/plain": [
       "[('の', 9545),\n",
       " ('\\r\\n', 8399),\n",
       " ('。', 7486),\n",
       " ('て', 7401),\n",
       " ('に', 7047),\n",
       " ('、', 6773),\n",
       " ('は', 6484),\n",
       " ('と', 6149),\n",
       " ('を', 6118),\n",
       " ('が', 5395)]"
      ]
     },
     "execution_count": 78,
     "metadata": {},
     "output_type": "execute_result"
    }
   ],
   "source": [
    "word_count = defaultdict(int)\n",
    "\n",
    "for doc in docs:\n",
    "    for token in doc:\n",
    "        word_count[token.text] += 1\n",
    "sorted_count = sorted(word_count.items(), key = lambda d: d[1], reverse=True)\n",
    "sorted_count[:10]"
   ]
  },
  {
   "cell_type": "code",
   "execution_count": 80,
   "metadata": {},
   "outputs": [
    {
     "name": "stdout",
     "output_type": "stream",
     "text": [
      "SYM\n",
      "[('—', 666), ('…', 433), ('\\u3000', 261), ('\\r\\n\\u3000', 135), ('・', 36), ('※', 34), ('○', 22), ('っ', 20), ('アンドレア・デル・サルト', 4), ('ッ', 4)]\n",
      "NOUN\n",
      "[('\\r\\n', 7539), ('事', 1213), ('もの', 960), ('主人', 933), ('御', 551), ('君', 541), ('吾輩', 471), ('人', 457), ('時', 349), ('ところ', 342)]\n",
      "ADP\n",
      "[('の', 7555), ('は', 6478), ('を', 6118), ('に', 5819), ('と', 5038), ('が', 4356), ('も', 3218), ('で', 1933), ('へ', 995), ('から', 959)]\n",
      "AUX\n",
      "[('た', 3969), ('だ', 2701), ('で', 2215), ('ない', 1652), ('し', 1413), ('な', 1286), ('に', 1141), ('です', 978), ('ん', 845), ('する', 618)]\n",
      "VERB\n",
      "[('ある', 1713), ('いる', 1255), ('し', 1033), ('云う', 935), ('なる', 455), ('する', 435), ('なっ', 406), ('い', 396), ('来', 374), ('見', 364)]\n",
      "PUNCT\n",
      "[('。', 7485), ('、', 6773), ('「', 3238), ('」', 3238), ('？', 141), ('\\r\\n', 9), ('！', 8), ('\\u3000', 4), ('(', 2), (')', 2)]\n",
      "ADV\n",
      "[('どう', 411), ('そう', 271), ('少し', 197), ('また', 188), ('ちょっと', 171), ('もう', 151), ('こう', 117), ('まだ', 117), ('よく', 90), ('まあ', 89)]\n",
      "ADJ\n",
      "[('ない', 771), ('\\r\\n', 762), ('いい', 249), ('なく', 170), ('大きな', 95), ('面白い', 86), ('妙', 84), ('早く', 71), ('そんな', 65), ('急', 59)]\n",
      "PRON\n",
      "[('何', 685), ('それ', 547), ('これ', 472), ('君', 426), ('僕', 270), ('彼', 206), ('そんな', 194), ('私', 151), ('誰', 131), ('どこ', 117)]\n",
      "PART\n",
      "[('か', 1330), ('ね', 667), ('よ', 504), ('さ', 386), ('な', 305), ('い', 146), ('たり', 126), ('くらい', 116), ('ぜ', 96), ('わ', 89)]\n",
      "SCONJ\n",
      "[('て', 7372), ('の', 1895), ('から', 1252), ('と', 1110), ('が', 1039), ('ん', 775), ('ば', 598), ('で', 391), ('ながら', 185), ('に', 86)]\n",
      "CCONJ\n",
      "[('しかし', 191), ('また', 72), ('それ', 64), ('ただ', 49), ('しかも', 31), ('ところ', 31), ('もっとも', 28), ('さて', 21), ('あるいは', 19), ('従っ', 14)]\n",
      "DET\n",
      "[('この', 655), ('その', 616), ('あの', 190), ('ある', 15), ('わが', 14), ('どの', 11), ('或る', 9), ('あらゆる', 9), ('其', 5), ('かの', 5)]\n",
      "NUM\n",
      "[('一', 388), ('三', 204), ('二', 198), ('十', 81), ('四', 64), ('五', 47), ('八', 38), ('六', 31), ('七', 26), ('二十', 25)]\n",
      "PROPN\n",
      "[('迷亭', 343), ('寒月', 286), ('金田', 119), ('沙弥', 87), ('鈴木', 85), ('東風', 61), ('雪江', 41), ('多々良', 39), ('落雲', 35), ('日本', 34)]\n",
      "INTJ\n",
      "[('ええ', 104), ('いや', 53), ('へえ', 41), ('さあ', 39), ('うん', 35), ('あら', 30), ('おや', 30), ('ああ', 29), ('おい', 27), ('いいえ', 23)]\n",
      "X\n",
      "[('俗了', 1), ('な', 1), ('るる', 1), ('twixt', 1), ('え', 1), ('あ', 1), ('かん', 1), ('う', 1), ('出', 1), ('り', 1)]\n"
     ]
    }
   ],
   "source": [
    "pos_word_count = dict()\n",
    "\n",
    "for doc in docs:\n",
    "    for token in doc:\n",
    "        if token.pos_ in pos_word_count.keys():\n",
    "            pos_word_count[token.pos_][token.text] += 1\n",
    "        else:\n",
    "            pos_word_count[token.pos_] = defaultdict(int)\n",
    "\n",
    "for k, v in pos_word_count.items():\n",
    "    print(k)\n",
    "    sorted_count_temp = sorted(v.items(), key = lambda d: d[1], reverse=True)\n",
    "    print(sorted_count_temp[:10])"
   ]
  },
  {
   "cell_type": "markdown",
   "metadata": {},
   "source": [
    "## 3.3\n",
    "> 口語的な文では係り受けに交差が生じることがある. 係り受けに交差が生じている文を考えてみよう. またそのような文を解析するためにはどのような考え方が必要になるか, 考えてみよう."
   ]
  },
  {
   "cell_type": "code",
   "execution_count": 70,
   "metadata": {},
   "outputs": [],
   "source": [
    "from spacy import displacy"
   ]
  },
  {
   "cell_type": "code",
   "execution_count": 71,
   "metadata": {},
   "outputs": [
    {
     "data": {
      "text/html": [
       "<span class=\"tex2jax_ignore\"><svg xmlns=\"http://www.w3.org/2000/svg\" xmlns:xlink=\"http://www.w3.org/1999/xlink\" xml:lang=\"ja\" id=\"4974440263604c078eda7dd99f54d60a-0\" class=\"displacy\" width=\"1275\" height=\"399.5\" direction=\"ltr\" style=\"max-width: none; height: 399.5px; color: #000000; background: #ffffff; font-family: Arial; direction: ltr\">\n",
       "<text class=\"displacy-token\" fill=\"currentColor\" text-anchor=\"middle\" y=\"309.5\">\n",
       "    <tspan class=\"displacy-word\" fill=\"currentColor\" x=\"50\">うなぎ</tspan>\n",
       "    <tspan class=\"displacy-tag\" dy=\"2em\" fill=\"currentColor\" x=\"50\">NOUN</tspan>\n",
       "</text>\n",
       "\n",
       "<text class=\"displacy-token\" fill=\"currentColor\" text-anchor=\"middle\" y=\"309.5\">\n",
       "    <tspan class=\"displacy-word\" fill=\"currentColor\" x=\"225\">を</tspan>\n",
       "    <tspan class=\"displacy-tag\" dy=\"2em\" fill=\"currentColor\" x=\"225\">ADP</tspan>\n",
       "</text>\n",
       "\n",
       "<text class=\"displacy-token\" fill=\"currentColor\" text-anchor=\"middle\" y=\"309.5\">\n",
       "    <tspan class=\"displacy-word\" fill=\"currentColor\" x=\"400\">浜松</tspan>\n",
       "    <tspan class=\"displacy-tag\" dy=\"2em\" fill=\"currentColor\" x=\"400\">PROPN</tspan>\n",
       "</text>\n",
       "\n",
       "<text class=\"displacy-token\" fill=\"currentColor\" text-anchor=\"middle\" y=\"309.5\">\n",
       "    <tspan class=\"displacy-word\" fill=\"currentColor\" x=\"575\">に</tspan>\n",
       "    <tspan class=\"displacy-tag\" dy=\"2em\" fill=\"currentColor\" x=\"575\">ADP</tspan>\n",
       "</text>\n",
       "\n",
       "<text class=\"displacy-token\" fill=\"currentColor\" text-anchor=\"middle\" y=\"309.5\">\n",
       "    <tspan class=\"displacy-word\" fill=\"currentColor\" x=\"750\">食べ</tspan>\n",
       "    <tspan class=\"displacy-tag\" dy=\"2em\" fill=\"currentColor\" x=\"750\">VERB</tspan>\n",
       "</text>\n",
       "\n",
       "<text class=\"displacy-token\" fill=\"currentColor\" text-anchor=\"middle\" y=\"309.5\">\n",
       "    <tspan class=\"displacy-word\" fill=\"currentColor\" x=\"925\">に</tspan>\n",
       "    <tspan class=\"displacy-tag\" dy=\"2em\" fill=\"currentColor\" x=\"925\">ADP</tspan>\n",
       "</text>\n",
       "\n",
       "<text class=\"displacy-token\" fill=\"currentColor\" text-anchor=\"middle\" y=\"309.5\">\n",
       "    <tspan class=\"displacy-word\" fill=\"currentColor\" x=\"1100\">行く</tspan>\n",
       "    <tspan class=\"displacy-tag\" dy=\"2em\" fill=\"currentColor\" x=\"1100\">VERB</tspan>\n",
       "</text>\n",
       "\n",
       "<g class=\"displacy-arrow\">\n",
       "    <path class=\"displacy-arc\" id=\"arrow-4974440263604c078eda7dd99f54d60a-0-0\" stroke-width=\"2px\" d=\"M70,264.5 C70,2.0 1100.0,2.0 1100.0,264.5\" fill=\"none\" stroke=\"currentColor\"/>\n",
       "    <text dy=\"1.25em\" style=\"font-size: 0.8em; letter-spacing: 1px\">\n",
       "        <textPath xlink:href=\"#arrow-4974440263604c078eda7dd99f54d60a-0-0\" class=\"displacy-label\" startOffset=\"50%\" side=\"left\" fill=\"currentColor\" text-anchor=\"middle\">obj</textPath>\n",
       "    </text>\n",
       "    <path class=\"displacy-arrowhead\" d=\"M70,266.5 L62,254.5 78,254.5\" fill=\"currentColor\"/>\n",
       "</g>\n",
       "\n",
       "<g class=\"displacy-arrow\">\n",
       "    <path class=\"displacy-arc\" id=\"arrow-4974440263604c078eda7dd99f54d60a-0-1\" stroke-width=\"2px\" d=\"M70,264.5 C70,177.0 215.0,177.0 215.0,264.5\" fill=\"none\" stroke=\"currentColor\"/>\n",
       "    <text dy=\"1.25em\" style=\"font-size: 0.8em; letter-spacing: 1px\">\n",
       "        <textPath xlink:href=\"#arrow-4974440263604c078eda7dd99f54d60a-0-1\" class=\"displacy-label\" startOffset=\"50%\" side=\"left\" fill=\"currentColor\" text-anchor=\"middle\">case</textPath>\n",
       "    </text>\n",
       "    <path class=\"displacy-arrowhead\" d=\"M215.0,266.5 L223.0,254.5 207.0,254.5\" fill=\"currentColor\"/>\n",
       "</g>\n",
       "\n",
       "<g class=\"displacy-arrow\">\n",
       "    <path class=\"displacy-arc\" id=\"arrow-4974440263604c078eda7dd99f54d60a-0-2\" stroke-width=\"2px\" d=\"M420,264.5 C420,89.5 745.0,89.5 745.0,264.5\" fill=\"none\" stroke=\"currentColor\"/>\n",
       "    <text dy=\"1.25em\" style=\"font-size: 0.8em; letter-spacing: 1px\">\n",
       "        <textPath xlink:href=\"#arrow-4974440263604c078eda7dd99f54d60a-0-2\" class=\"displacy-label\" startOffset=\"50%\" side=\"left\" fill=\"currentColor\" text-anchor=\"middle\">obl</textPath>\n",
       "    </text>\n",
       "    <path class=\"displacy-arrowhead\" d=\"M420,266.5 L412,254.5 428,254.5\" fill=\"currentColor\"/>\n",
       "</g>\n",
       "\n",
       "<g class=\"displacy-arrow\">\n",
       "    <path class=\"displacy-arc\" id=\"arrow-4974440263604c078eda7dd99f54d60a-0-3\" stroke-width=\"2px\" d=\"M420,264.5 C420,177.0 565.0,177.0 565.0,264.5\" fill=\"none\" stroke=\"currentColor\"/>\n",
       "    <text dy=\"1.25em\" style=\"font-size: 0.8em; letter-spacing: 1px\">\n",
       "        <textPath xlink:href=\"#arrow-4974440263604c078eda7dd99f54d60a-0-3\" class=\"displacy-label\" startOffset=\"50%\" side=\"left\" fill=\"currentColor\" text-anchor=\"middle\">case</textPath>\n",
       "    </text>\n",
       "    <path class=\"displacy-arrowhead\" d=\"M565.0,266.5 L573.0,254.5 557.0,254.5\" fill=\"currentColor\"/>\n",
       "</g>\n",
       "\n",
       "<g class=\"displacy-arrow\">\n",
       "    <path class=\"displacy-arc\" id=\"arrow-4974440263604c078eda7dd99f54d60a-0-4\" stroke-width=\"2px\" d=\"M770,264.5 C770,89.5 1095.0,89.5 1095.0,264.5\" fill=\"none\" stroke=\"currentColor\"/>\n",
       "    <text dy=\"1.25em\" style=\"font-size: 0.8em; letter-spacing: 1px\">\n",
       "        <textPath xlink:href=\"#arrow-4974440263604c078eda7dd99f54d60a-0-4\" class=\"displacy-label\" startOffset=\"50%\" side=\"left\" fill=\"currentColor\" text-anchor=\"middle\">advcl</textPath>\n",
       "    </text>\n",
       "    <path class=\"displacy-arrowhead\" d=\"M770,266.5 L762,254.5 778,254.5\" fill=\"currentColor\"/>\n",
       "</g>\n",
       "\n",
       "<g class=\"displacy-arrow\">\n",
       "    <path class=\"displacy-arc\" id=\"arrow-4974440263604c078eda7dd99f54d60a-0-5\" stroke-width=\"2px\" d=\"M770,264.5 C770,177.0 915.0,177.0 915.0,264.5\" fill=\"none\" stroke=\"currentColor\"/>\n",
       "    <text dy=\"1.25em\" style=\"font-size: 0.8em; letter-spacing: 1px\">\n",
       "        <textPath xlink:href=\"#arrow-4974440263604c078eda7dd99f54d60a-0-5\" class=\"displacy-label\" startOffset=\"50%\" side=\"left\" fill=\"currentColor\" text-anchor=\"middle\">case</textPath>\n",
       "    </text>\n",
       "    <path class=\"displacy-arrowhead\" d=\"M915.0,266.5 L923.0,254.5 907.0,254.5\" fill=\"currentColor\"/>\n",
       "</g>\n",
       "</svg></span>"
      ],
      "text/plain": [
       "<IPython.core.display.HTML object>"
      ]
     },
     "metadata": {},
     "output_type": "display_data"
    }
   ],
   "source": [
    "example = \"うなぎを浜松に食べに行く\"\n",
    "doc = nlp(example)\n",
    "displacy.render(doc, style='dep')"
   ]
  },
  {
   "cell_type": "code",
   "execution_count": 73,
   "metadata": {},
   "outputs": [
    {
     "data": {
      "text/html": [
       "<span class=\"tex2jax_ignore\"><svg xmlns=\"http://www.w3.org/2000/svg\" xmlns:xlink=\"http://www.w3.org/1999/xlink\" xml:lang=\"ja\" id=\"13eaa2bca66a4f9b88f72c238a845380-0\" class=\"displacy\" width=\"1450\" height=\"399.5\" direction=\"ltr\" style=\"max-width: none; height: 399.5px; color: #000000; background: #ffffff; font-family: Arial; direction: ltr\">\n",
       "<text class=\"displacy-token\" fill=\"currentColor\" text-anchor=\"middle\" y=\"309.5\">\n",
       "    <tspan class=\"displacy-word\" fill=\"currentColor\" x=\"50\">うなぎ</tspan>\n",
       "    <tspan class=\"displacy-tag\" dy=\"2em\" fill=\"currentColor\" x=\"50\">NOUN</tspan>\n",
       "</text>\n",
       "\n",
       "<text class=\"displacy-token\" fill=\"currentColor\" text-anchor=\"middle\" y=\"309.5\">\n",
       "    <tspan class=\"displacy-word\" fill=\"currentColor\" x=\"225\">を</tspan>\n",
       "    <tspan class=\"displacy-tag\" dy=\"2em\" fill=\"currentColor\" x=\"225\">ADP</tspan>\n",
       "</text>\n",
       "\n",
       "<text class=\"displacy-token\" fill=\"currentColor\" text-anchor=\"middle\" y=\"309.5\">\n",
       "    <tspan class=\"displacy-word\" fill=\"currentColor\" x=\"400\">浜松</tspan>\n",
       "    <tspan class=\"displacy-tag\" dy=\"2em\" fill=\"currentColor\" x=\"400\">PROPN</tspan>\n",
       "</text>\n",
       "\n",
       "<text class=\"displacy-token\" fill=\"currentColor\" text-anchor=\"middle\" y=\"309.5\">\n",
       "    <tspan class=\"displacy-word\" fill=\"currentColor\" x=\"575\">に</tspan>\n",
       "    <tspan class=\"displacy-tag\" dy=\"2em\" fill=\"currentColor\" x=\"575\">ADP</tspan>\n",
       "</text>\n",
       "\n",
       "<text class=\"displacy-token\" fill=\"currentColor\" text-anchor=\"middle\" y=\"309.5\">\n",
       "    <tspan class=\"displacy-word\" fill=\"currentColor\" x=\"750\">食べる</tspan>\n",
       "    <tspan class=\"displacy-tag\" dy=\"2em\" fill=\"currentColor\" x=\"750\">VERB</tspan>\n",
       "</text>\n",
       "\n",
       "<text class=\"displacy-token\" fill=\"currentColor\" text-anchor=\"middle\" y=\"309.5\">\n",
       "    <tspan class=\"displacy-word\" fill=\"currentColor\" x=\"925\">ため</tspan>\n",
       "    <tspan class=\"displacy-tag\" dy=\"2em\" fill=\"currentColor\" x=\"925\">SCONJ</tspan>\n",
       "</text>\n",
       "\n",
       "<text class=\"displacy-token\" fill=\"currentColor\" text-anchor=\"middle\" y=\"309.5\">\n",
       "    <tspan class=\"displacy-word\" fill=\"currentColor\" x=\"1100\">に</tspan>\n",
       "    <tspan class=\"displacy-tag\" dy=\"2em\" fill=\"currentColor\" x=\"1100\">SCONJ</tspan>\n",
       "</text>\n",
       "\n",
       "<text class=\"displacy-token\" fill=\"currentColor\" text-anchor=\"middle\" y=\"309.5\">\n",
       "    <tspan class=\"displacy-word\" fill=\"currentColor\" x=\"1275\">行く</tspan>\n",
       "    <tspan class=\"displacy-tag\" dy=\"2em\" fill=\"currentColor\" x=\"1275\">VERB</tspan>\n",
       "</text>\n",
       "\n",
       "<g class=\"displacy-arrow\">\n",
       "    <path class=\"displacy-arc\" id=\"arrow-13eaa2bca66a4f9b88f72c238a845380-0-0\" stroke-width=\"2px\" d=\"M70,264.5 C70,2.0 750.0,2.0 750.0,264.5\" fill=\"none\" stroke=\"currentColor\"/>\n",
       "    <text dy=\"1.25em\" style=\"font-size: 0.8em; letter-spacing: 1px\">\n",
       "        <textPath xlink:href=\"#arrow-13eaa2bca66a4f9b88f72c238a845380-0-0\" class=\"displacy-label\" startOffset=\"50%\" side=\"left\" fill=\"currentColor\" text-anchor=\"middle\">obj</textPath>\n",
       "    </text>\n",
       "    <path class=\"displacy-arrowhead\" d=\"M70,266.5 L62,254.5 78,254.5\" fill=\"currentColor\"/>\n",
       "</g>\n",
       "\n",
       "<g class=\"displacy-arrow\">\n",
       "    <path class=\"displacy-arc\" id=\"arrow-13eaa2bca66a4f9b88f72c238a845380-0-1\" stroke-width=\"2px\" d=\"M70,264.5 C70,177.0 215.0,177.0 215.0,264.5\" fill=\"none\" stroke=\"currentColor\"/>\n",
       "    <text dy=\"1.25em\" style=\"font-size: 0.8em; letter-spacing: 1px\">\n",
       "        <textPath xlink:href=\"#arrow-13eaa2bca66a4f9b88f72c238a845380-0-1\" class=\"displacy-label\" startOffset=\"50%\" side=\"left\" fill=\"currentColor\" text-anchor=\"middle\">case</textPath>\n",
       "    </text>\n",
       "    <path class=\"displacy-arrowhead\" d=\"M215.0,266.5 L223.0,254.5 207.0,254.5\" fill=\"currentColor\"/>\n",
       "</g>\n",
       "\n",
       "<g class=\"displacy-arrow\">\n",
       "    <path class=\"displacy-arc\" id=\"arrow-13eaa2bca66a4f9b88f72c238a845380-0-2\" stroke-width=\"2px\" d=\"M420,264.5 C420,89.5 745.0,89.5 745.0,264.5\" fill=\"none\" stroke=\"currentColor\"/>\n",
       "    <text dy=\"1.25em\" style=\"font-size: 0.8em; letter-spacing: 1px\">\n",
       "        <textPath xlink:href=\"#arrow-13eaa2bca66a4f9b88f72c238a845380-0-2\" class=\"displacy-label\" startOffset=\"50%\" side=\"left\" fill=\"currentColor\" text-anchor=\"middle\">obl</textPath>\n",
       "    </text>\n",
       "    <path class=\"displacy-arrowhead\" d=\"M420,266.5 L412,254.5 428,254.5\" fill=\"currentColor\"/>\n",
       "</g>\n",
       "\n",
       "<g class=\"displacy-arrow\">\n",
       "    <path class=\"displacy-arc\" id=\"arrow-13eaa2bca66a4f9b88f72c238a845380-0-3\" stroke-width=\"2px\" d=\"M420,264.5 C420,177.0 565.0,177.0 565.0,264.5\" fill=\"none\" stroke=\"currentColor\"/>\n",
       "    <text dy=\"1.25em\" style=\"font-size: 0.8em; letter-spacing: 1px\">\n",
       "        <textPath xlink:href=\"#arrow-13eaa2bca66a4f9b88f72c238a845380-0-3\" class=\"displacy-label\" startOffset=\"50%\" side=\"left\" fill=\"currentColor\" text-anchor=\"middle\">case</textPath>\n",
       "    </text>\n",
       "    <path class=\"displacy-arrowhead\" d=\"M565.0,266.5 L573.0,254.5 557.0,254.5\" fill=\"currentColor\"/>\n",
       "</g>\n",
       "\n",
       "<g class=\"displacy-arrow\">\n",
       "    <path class=\"displacy-arc\" id=\"arrow-13eaa2bca66a4f9b88f72c238a845380-0-4\" stroke-width=\"2px\" d=\"M770,264.5 C770,89.5 1270.0,89.5 1270.0,264.5\" fill=\"none\" stroke=\"currentColor\"/>\n",
       "    <text dy=\"1.25em\" style=\"font-size: 0.8em; letter-spacing: 1px\">\n",
       "        <textPath xlink:href=\"#arrow-13eaa2bca66a4f9b88f72c238a845380-0-4\" class=\"displacy-label\" startOffset=\"50%\" side=\"left\" fill=\"currentColor\" text-anchor=\"middle\">advcl</textPath>\n",
       "    </text>\n",
       "    <path class=\"displacy-arrowhead\" d=\"M770,266.5 L762,254.5 778,254.5\" fill=\"currentColor\"/>\n",
       "</g>\n",
       "\n",
       "<g class=\"displacy-arrow\">\n",
       "    <path class=\"displacy-arc\" id=\"arrow-13eaa2bca66a4f9b88f72c238a845380-0-5\" stroke-width=\"2px\" d=\"M770,264.5 C770,177.0 915.0,177.0 915.0,264.5\" fill=\"none\" stroke=\"currentColor\"/>\n",
       "    <text dy=\"1.25em\" style=\"font-size: 0.8em; letter-spacing: 1px\">\n",
       "        <textPath xlink:href=\"#arrow-13eaa2bca66a4f9b88f72c238a845380-0-5\" class=\"displacy-label\" startOffset=\"50%\" side=\"left\" fill=\"currentColor\" text-anchor=\"middle\">mark</textPath>\n",
       "    </text>\n",
       "    <path class=\"displacy-arrowhead\" d=\"M915.0,266.5 L923.0,254.5 907.0,254.5\" fill=\"currentColor\"/>\n",
       "</g>\n",
       "\n",
       "<g class=\"displacy-arrow\">\n",
       "    <path class=\"displacy-arc\" id=\"arrow-13eaa2bca66a4f9b88f72c238a845380-0-6\" stroke-width=\"2px\" d=\"M945,264.5 C945,177.0 1090.0,177.0 1090.0,264.5\" fill=\"none\" stroke=\"currentColor\"/>\n",
       "    <text dy=\"1.25em\" style=\"font-size: 0.8em; letter-spacing: 1px\">\n",
       "        <textPath xlink:href=\"#arrow-13eaa2bca66a4f9b88f72c238a845380-0-6\" class=\"displacy-label\" startOffset=\"50%\" side=\"left\" fill=\"currentColor\" text-anchor=\"middle\">fixed</textPath>\n",
       "    </text>\n",
       "    <path class=\"displacy-arrowhead\" d=\"M1090.0,266.5 L1098.0,254.5 1082.0,254.5\" fill=\"currentColor\"/>\n",
       "</g>\n",
       "</svg></span>"
      ],
      "text/plain": [
       "<IPython.core.display.HTML object>"
      ]
     },
     "metadata": {},
     "output_type": "display_data"
    }
   ],
   "source": [
    "example = \"うなぎを浜松に食べるために行く\"\n",
    "doc = nlp(example)\n",
    "displacy.render(doc, style='dep')"
   ]
  },
  {
   "cell_type": "markdown",
   "metadata": {},
   "source": [
    "## 3.4\n",
    "> 新聞記事などから一つ文を選び, その文の修辞構造木を作成してみよう. 作成したら, 友人などもの同じように修辞構造木を作成してもらい, 自分のものと比較してみよう. 修辞構造木は注釈付けが難しいことが知られており, 同じ文に対しても注釈者によって別の構造が付与されることがままある. その原因についても考えてみよう."
   ]
  },
  {
   "cell_type": "markdown",
   "metadata": {},
   "source": [
    "Skip"
   ]
  }
 ],
 "metadata": {
  "kernelspec": {
   "display_name": "Python 3.9.10 ('base')",
   "language": "python",
   "name": "python3"
  },
  "language_info": {
   "codemirror_mode": {
    "name": "ipython",
    "version": 3
   },
   "file_extension": ".py",
   "mimetype": "text/x-python",
   "name": "python",
   "nbconvert_exporter": "python",
   "pygments_lexer": "ipython3",
   "version": "3.9.10"
  },
  "orig_nbformat": 4,
  "vscode": {
   "interpreter": {
    "hash": "d4d1e4263499bec80672ea0156c357c1ee493ec2b1c70f0acce89fc37c4a6abe"
   }
  }
 },
 "nbformat": 4,
 "nbformat_minor": 2
}
