{
 "cells": [
  {
   "cell_type": "markdown",
   "metadata": {},
   "source": [
    "# Chapter8 三次元画像解析"
   ]
  },
  {
   "cell_type": "code",
   "execution_count": 8,
   "metadata": {},
   "outputs": [],
   "source": [
    "import numpy as np"
   ]
  },
  {
   "cell_type": "markdown",
   "metadata": {},
   "source": [
    "## 4.1\n",
    "次の回転行列$\\bm{R}$の逆行列を求めよ.\n",
    "$\n",
    "\\bm{R} = \n",
    "\\begin{pmatrix}\n",
    "0 & 1 & 0 \\\\\n",
    "1 & 0 & 0 \\\\\n",
    "0 & 0 & 1\n",
    "\\end{pmatrix}\n",
    "$"
   ]
  },
  {
   "cell_type": "markdown",
   "metadata": {},
   "source": [
    "$\\bm{R}^{-1} = \n",
    "\\begin{pmatrix}\n",
    "0 & 1 & 0 \\\\\n",
    "1 & 0 & 0 \\\\\n",
    "0 & 0 & 1\n",
    "\\end{pmatrix} = \\bm{R} $"
   ]
  },
  {
   "cell_type": "code",
   "execution_count": 11,
   "metadata": {},
   "outputs": [
    {
     "data": {
      "text/plain": [
       "array([[1, 0, 0],\n",
       "       [0, 1, 0],\n",
       "       [0, 0, 1]])"
      ]
     },
     "execution_count": 11,
     "metadata": {},
     "output_type": "execute_result"
    }
   ],
   "source": [
    "R = np.array([\n",
    "    [0, 1, 0],\n",
    "    [1, 0, 0],\n",
    "    [0, 0, 1],\n",
    "])\n",
    "R@R"
   ]
  },
  {
   "cell_type": "code",
   "execution_count": 19,
   "metadata": {},
   "outputs": [
    {
     "data": {
      "text/plain": [
       "array([2, 1, 3])"
      ]
     },
     "execution_count": 19,
     "metadata": {},
     "output_type": "execute_result"
    }
   ],
   "source": [
    "# R exchange x and y\n",
    "R @ np.array([1, 2, 3]).T"
   ]
  },
  {
   "cell_type": "markdown",
   "metadata": {},
   "source": [
    "## 4.2\n",
    "次の座標変換行列$\\bm{M}$の逆行列を求めよ.\n",
    "$\n",
    "\\bm{M} = \n",
    "\\begin{pmatrix}\n",
    "0 & 1 & 0 & 1 \\\\\n",
    "1 & 0 & 0 & 0 \\\\\n",
    "0 & 0 & 1 & 0 \\\\\n",
    "0 & 0 & 0 & 1\n",
    "\\end{pmatrix}\n",
    "$"
   ]
  },
  {
   "cell_type": "markdown",
   "metadata": {},
   "source": [
    "$\n",
    "\\bm{M}^{-1} = \n",
    "\\begin{pmatrix}\n",
    "0 & 1 & 0 & 0 \\\\\n",
    "1 & 0 & 0 & -1 \\\\\n",
    "0 & 0 & 1 & 0 \\\\\n",
    "0 & 0 & 0 & 1\n",
    "\\end{pmatrix}\n",
    "$"
   ]
  },
  {
   "cell_type": "code",
   "execution_count": 26,
   "metadata": {},
   "outputs": [
    {
     "data": {
      "text/plain": [
       "array([[ 0.,  1.,  0.,  0.],\n",
       "       [ 1.,  0.,  0., -1.],\n",
       "       [ 0.,  0.,  1.,  0.],\n",
       "       [ 0.,  0.,  0.,  1.]])"
      ]
     },
     "execution_count": 26,
     "metadata": {},
     "output_type": "execute_result"
    }
   ],
   "source": [
    "M = np.array([\n",
    "    [0, 1, 0, 1],\n",
    "    [1, 0, 0, 0],\n",
    "    [0, 0, 1, 0],\n",
    "    [0, 0, 0, 1],\n",
    "])\n",
    "M_inv = np.linalg.inv(M)\n",
    "M_inv"
   ]
  },
  {
   "cell_type": "markdown",
   "metadata": {},
   "source": [
    "## 4.3\n",
    "練習問題4.2の行列$\\bm{M}$が世界座標系からカメラ座標系への変換行列であるとき, 世界座標系におけるカメラの位置と, 世界座標系におけるカメラ光軸方向のベクトルを求めよ."
   ]
  },
  {
   "cell_type": "markdown",
   "metadata": {},
   "source": [
    "世界座標系$\\bm{V_w}$, カメラ座標系$\\bm{V_c}$とし, $\\bar{\\bm{V_c}}^{T} = \\bm{M}\\bar{\\bm{V_w}}^{T}$.\n",
    "\n",
    "世界座標系におけるカメラの位置: $(0, -1, 0)$\n",
    "\n",
    "$\n",
    "\\bm{M}^{-1} \\begin{pmatrix}\n",
    "0 \\\\\n",
    "0 \\\\\n",
    "0 \\\\\n",
    "1  \n",
    "\\end{pmatrix} = \\begin{pmatrix}\n",
    "0 \\\\\n",
    "-1 \\\\\n",
    "0 \\\\\n",
    "1  \n",
    "\\end{pmatrix}\n",
    "$\n",
    "\n",
    "世界座標系におけるカメラ光軸方向のベクトル: $(0, 0, 1)$\n",
    "\n",
    "$\n",
    "\\bm{M}^{-1} \\begin{pmatrix}\n",
    "0 \\\\\n",
    "0 \\\\\n",
    "1 \\\\\n",
    "0  \n",
    "\\end{pmatrix} = \\begin{pmatrix}\n",
    "0 \\\\\n",
    "0 \\\\\n",
    "1 \\\\\n",
    "0  \n",
    "\\end{pmatrix}\n",
    "$"
   ]
  },
  {
   "cell_type": "code",
   "execution_count": 29,
   "metadata": {},
   "outputs": [
    {
     "name": "stdout",
     "output_type": "stream",
     "text": [
      "[ 0. -1.  0.  1.]\n",
      "[0. 0. 1. 0.]\n"
     ]
    }
   ],
   "source": [
    "print(M_inv @ np.array([0, 0, 0, 1]).T)\n",
    "print(M_inv @ np.array([0, 0, 1, 0]).T)"
   ]
  },
  {
   "cell_type": "markdown",
   "metadata": {},
   "source": [
    "## 4.4\n",
    "世界座標系からカメラ座標系への変換行列$\\bm{M}$が与えられたとする. このとき,世界座標系の三次元点$(100, 200, 300)$に対応する投影座標$(u, v)$を透視投影モデルを用いて計算せよ.\n",
    "$\n",
    "\\bm{M} = \n",
    "\\begin{pmatrix} \n",
    "0 & -1 & 0 & 100 \\\\\n",
    "1 & 0 & 0 & 0 \\\\\n",
    "0 & 0 & 1 & -200 \\\\\n",
    "0 & 0 & 0 & 1 \n",
    "\\end{pmatrix}\n",
    "$"
   ]
  },
  {
   "cell_type": "code",
   "execution_count": 25,
   "metadata": {},
   "outputs": [
    {
     "data": {
      "text/plain": [
       "(-1.0, 1.0)"
      ]
     },
     "execution_count": 25,
     "metadata": {},
     "output_type": "execute_result"
    }
   ],
   "source": [
    "M = np.array([\n",
    "    [0, -1, 0, 100],\n",
    "    [1, 0, 0, 0],\n",
    "    [0, 0, 1, -200],\n",
    "    [0, 0, 0, 1]\n",
    "])\n",
    "V_w = np.array([100, 200, 300])\n",
    "V_c_bar = M @ np.append(V_w, 1).T\n",
    "V_c = V_c_bar[:3]\n",
    "\n",
    "\n",
    "u = V_c[0] / V_c[2]\n",
    "v = V_c[1] / V_c[2]\n",
    "(u, v)"
   ]
  },
  {
   "cell_type": "markdown",
   "metadata": {},
   "source": [
    "## 4.5\n",
    "カメラ内部パラメータ行列$\\bm{A}$が次にように与えられたとする. 練習問題4.4で求めた投影座標$(u, v)$を画像座標$(m, n)$に変換せよ.\n",
    "$\n",
    "\\bm{A} = \n",
    "\\begin{pmatrix} \n",
    "100 & 0 & 320 & 0 \\\\\n",
    "0 & 100 & 240 & 0 \\\\\n",
    "0 & 0 & 1 & 0 \n",
    "\\end{pmatrix}\n",
    "$"
   ]
  },
  {
   "cell_type": "code",
   "execution_count": 32,
   "metadata": {},
   "outputs": [
    {
     "data": {
      "text/plain": [
       "(220.0, 340.0)"
      ]
     },
     "execution_count": 32,
     "metadata": {},
     "output_type": "execute_result"
    }
   ],
   "source": [
    "A = np.array([\n",
    "    [100, 0, 320, 0],\n",
    "    [0, 100, 240, 0],\n",
    "    [0, 0, 1, 0]\n",
    "])\n",
    "\n",
    "(m, n, _) = A @ np.array([u, v, 1, 1]).T\n",
    "(m, n)"
   ]
  }
 ],
 "metadata": {
  "kernelspec": {
   "display_name": "Python 3.9.10 ('base')",
   "language": "python",
   "name": "python3"
  },
  "language_info": {
   "codemirror_mode": {
    "name": "ipython",
    "version": 3
   },
   "file_extension": ".py",
   "mimetype": "text/x-python",
   "name": "python",
   "nbconvert_exporter": "python",
   "pygments_lexer": "ipython3",
   "version": "3.9.10"
  },
  "orig_nbformat": 4,
  "vscode": {
   "interpreter": {
    "hash": "d4d1e4263499bec80672ea0156c357c1ee493ec2b1c70f0acce89fc37c4a6abe"
   }
  }
 },
 "nbformat": 4,
 "nbformat_minor": 2
}
