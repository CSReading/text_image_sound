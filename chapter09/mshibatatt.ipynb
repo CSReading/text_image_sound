{
 "cells": [
  {
   "cell_type": "markdown",
   "metadata": {},
   "source": [
    "# Chapter 9 音声認識の全体像"
   ]
  },
  {
   "cell_type": "markdown",
   "metadata": {},
   "source": [
    "## 1.1\n",
    "> ブザーの音を収録した. この音を「あ」という音に近づけるには, 音声にどのような加工を施せばよいか\n",
    "\n",
    "「あ」のもつ音声パワーの山谷を表現するように特定の周波数の音量を増減させる。"
   ]
  },
  {
   "cell_type": "markdown",
   "metadata": {},
   "source": [
    "## 1.2 \n",
    "> 音声信号処理においてフレームとは何か\n",
    "\n",
    "機械学習音響モデルへの時系列的な入力単位のこと。1秒間に100回程度の頻度で行われる。（p.129）"
   ]
  },
  {
   "cell_type": "markdown",
   "metadata": {},
   "source": [
    "## 1.3\n",
    "> 音声認識において特徴量とは何か\n",
    "\n",
    "モデルへ入力する値（ベクトル）のこと。音声認識ではスペクトル包絡を数十次元程度のベクトルとして表現する。（p.129）"
   ]
  },
  {
   "cell_type": "markdown",
   "metadata": {},
   "source": [
    "## 1.4\n",
    "> スマホやパソコンの音声認識機能を用いて, 「音声インチキ」と発音してみよ. 明瞭に発声したり, 不明瞭に発声したときに, 音声認識の結果はどのように変わるか. なぜ, そのような変化が起きるのか説明せよ.\n",
    "\n",
    "skip (p.132~135)"
   ]
  }
 ],
 "metadata": {
  "kernelspec": {
   "display_name": "Python 3.8.10 64-bit",
   "language": "python",
   "name": "python3"
  },
  "language_info": {
   "name": "python",
   "version": "3.8.10"
  },
  "orig_nbformat": 4,
  "vscode": {
   "interpreter": {
    "hash": "31f2aee4e71d21fbe5cf8b01ff0e069b9275f58929596ceb00d14d90e3e16cd6"
   }
  }
 },
 "nbformat": 4,
 "nbformat_minor": 2
}
