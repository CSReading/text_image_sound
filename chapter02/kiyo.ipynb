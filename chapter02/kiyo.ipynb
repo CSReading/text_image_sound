{
 "cells": [
  {
   "cell_type": "markdown",
   "metadata": {},
   "source": [
    "### 1.\n",
    "\n",
    "モチベーション？\n",
    "ターミノロジーを考慮に入れると数が膨大になるから、役割を分けている？\n",
    "例）[経済学のシソロジー](https://zbw.eu/stw/version/latest/about)"
   ]
  },
  {
   "cell_type": "markdown",
   "metadata": {},
   "source": [
    "### 2.\n",
    "\n",
    "- 加算法\n",
    "    - 出現頻度に一律の値 $\\delta$ を足す ($\\delta = 1$ の場合はLaplace smoothingという)   \n",
    "    - 精度は低いが、簡単\n",
    "\\begin{align*}\n",
    "    P(w)=\\frac{n(w)+\\delta}{\\sum_{w \\in \\mathcal{W}} n(w)+\\delta|\\mathcal{W}|}\n",
    "\\end{align*}\n"
   ]
  },
  {
   "cell_type": "markdown",
   "metadata": {},
   "source": [
    "### 3.\n",
    "- [まとめ](https://engineering.linecorp.com/ja/blog/overview-2018-language-models/)"
   ]
  }
 ],
 "metadata": {
  "kernelspec": {
   "display_name": "Python 3.8.10 64-bit",
   "language": "python",
   "name": "python3"
  },
  "language_info": {
   "name": "python",
   "version": "3.8.10"
  },
  "orig_nbformat": 4,
  "vscode": {
   "interpreter": {
    "hash": "916dbcbb3f70747c44a77c7bcd40155683ae19c65e1c03b4aa3499c5328201f1"
   }
  }
 },
 "nbformat": 4,
 "nbformat_minor": 2
}
